{
 "cells": [
  {
   "cell_type": "code",
   "execution_count": null,
   "id": "ba5f5360-4c6e-48d6-9e64-067a64a531fc",
   "metadata": {},
   "outputs": [],
   "source": [
    "import pandas as pd\n",
    "import numpy as np\n"
   ]
  },
  {
   "cell_type": "code",
   "execution_count": null,
   "id": "3a9fcdad-22d3-4513-8451-8e777d69118a",
   "metadata": {},
   "outputs": [],
   "source": [
    "#import file - we used body measurements (posted in teams)\n",
    "filepath = \"data\\\\body measurements.csv\"\n",
    "df = pd.read_csv(filepath)\n",
    "\n",
    "#clean data\n",
    "df = df.dropna() # drop data with null values\n",
    "\n",
    "#drop rows with outliers\n",
    "float_cols = df.select_dtypes(include=['float64']).columns\n",
    "Q1 = df[float_cols].quantile(0.25)\n",
    "Q3 = df[float_cols].quantile(0.75)\n",
    "IQR = Q3 - Q1\n",
    "mask = ~((df[float_cols] < (Q1 - 1.5 * IQR)) | (df[float_cols] > (Q3 + 1.5 * IQR))).any(axis=1)\n",
    "df_clean = df[mask]\n",
    "\n",
    "#remove duplicate rows\n",
    "df = df.drop_duplicates()"
   ]
  }
 ],
 "metadata": {
  "kernelspec": {
   "display_name": "Python 3 (ipykernel)",
   "language": "python",
   "name": "python3"
  },
  "language_info": {
   "codemirror_mode": {
    "name": "ipython",
    "version": 3
   },
   "file_extension": ".py",
   "mimetype": "text/x-python",
   "name": "python",
   "nbconvert_exporter": "python",
   "pygments_lexer": "ipython3",
   "version": "3.12.7"
  }
 },
 "nbformat": 4,
 "nbformat_minor": 5
}
